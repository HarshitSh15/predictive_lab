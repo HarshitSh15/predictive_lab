{
 "cells": [
  {
   "cell_type": "code",
   "execution_count": 1,
   "id": "f685845d",
   "metadata": {},
   "outputs": [
    {
     "name": "stdout",
     "output_type": "stream",
     "text": [
      "Tuple of colors: ('red', 'green', 'blue', 'yellow', 'green')\n",
      "\n",
      "First color: red\n",
      "Third color: blue\n",
      "\n",
      "Error: 'tuple' object does not support item assignment\n",
      "\n",
      "Number of occurrences of 'green': 2\n"
     ]
    }
   ],
   "source": [
    "# 1. Create a tuple of colors\n",
    "colors = (\"red\", \"green\", \"blue\", \"yellow\", \"green\")\n",
    "\n",
    "print(\"Tuple of colors:\", colors)\n",
    "\n",
    "# 2. Access elements using indexing\n",
    "first_color = colors[0]\n",
    "third_color = colors[2]\n",
    "\n",
    "print(\"\\nFirst color:\", first_color)\n",
    "print(\"Third color:\", third_color)\n",
    "\n",
    "# 3. Try to modify an element in the tuple (demonstrating immutability)\n",
    "try:\n",
    "    colors[1] = \"purple\"  # This will raise a TypeError because tuples are immutable\n",
    "except TypeError as e:\n",
    "    print(\"\\nError:\", e)\n",
    "\n",
    "# 4. Find the number of occurrences of a specific element (e.g., 'green')\n",
    "count_green = colors.count(\"green\")\n",
    "print(\"\\nNumber of occurrences of 'green':\", count_green)\n"
   ]
  },
  {
   "cell_type": "code",
   "execution_count": 2,
   "id": "d7583948",
   "metadata": {},
   "outputs": [
    {
     "name": "stdout",
     "output_type": "stream",
     "text": [
      "Name: Alice\n",
      "Age: 30\n",
      "City: New York\n",
      "Country: USA\n",
      "Updated Age: 31\n",
      "Occupation key does not exist.\n",
      "Keys: dict_keys(['name', 'age', 'city', 'country'])\n",
      "Values: dict_values(['Alice', 31, 'New York', 'USA'])\n"
     ]
    }
   ],
   "source": [
    "# Create a dictionary to store information about a person\n",
    "person = {\"name\": \"Alice\", \"age\": 30, \"city\": \"New York\"}\n",
    "\n",
    "# Access values using keys\n",
    "print(\"Name:\", person[\"name\"])\n",
    "print(\"Age:\", person[\"age\"])\n",
    "print(\"City:\", person[\"city\"])\n",
    "\n",
    "# Add a new key-value pair\n",
    "person[\"country\"] = \"USA\"\n",
    "print(\"Country:\", person[\"country\"])\n",
    "\n",
    "# Modify an existing value\n",
    "person[\"age\"] = 31\n",
    "print(\"Updated Age:\", person[\"age\"])\n",
    "\n",
    "# Check if a key exists in the dictionary\n",
    "if \"occupation\" in person:\n",
    "    print(\"Occupation:\", person[\"occupation\"])\n",
    "else:\n",
    "    print(\"Occupation key does not exist.\")\n",
    "\n",
    "# Get a list of all keys and values\n",
    "keys = person.keys()\n",
    "values = person.values()\n",
    "print(\"Keys:\", keys)\n",
    "print(\"Values:\", values)"
   ]
  },
  {
   "cell_type": "code",
   "execution_count": 3,
   "id": "349d9c35",
   "metadata": {},
   "outputs": [
    {
     "name": "stdout",
     "output_type": "stream",
     "text": [
      "Modified list: [10, 2, 3]\n",
      "Error: 'tuple' object does not support item assignment\n"
     ]
    }
   ],
   "source": [
    "# Create a list and a tuple\n",
    "my_list = [1, 2, 3]\n",
    "my_tuple = (4, 5, 6)\n",
    "\n",
    "# Try to modify an element in the list\n",
    "my_list[0] = 10\n",
    "print(\"Modified list:\", my_list)\n",
    "\n",
    "# Try to modify an element in the tuple (this will raise an error)\n",
    "try:\n",
    "    my_tuple[0] = 10\n",
    "except TypeError as e:\n",
    "    print(\"Error:\", e)\n",
    "\n",
    "# Explanation:\n",
    "# - Lists are mutable data types, meaning their elements can be changed after creation.\n",
    "#   You can add, remove, or modify elements directly.\n",
    "# - Tuples are immutable data types, meaning their elements cannot be changed once created.\n",
    "#   Attempting to modify an element will raise a TypeError."
   ]
  },
  {
   "cell_type": "code",
   "execution_count": 4,
   "id": "74754ce9",
   "metadata": {},
   "outputs": [
    {
     "name": "stdout",
     "output_type": "stream",
     "text": [
      "Enter a number: 222\n",
      "Multiplication table of 222:\n",
      "222 x 1 = 222\n",
      "222 x 2 = 444\n",
      "222 x 3 = 666\n",
      "222 x 4 = 888\n",
      "222 x 5 = 1110\n",
      "222 x 6 = 1332\n",
      "222 x 7 = 1554\n",
      "222 x 8 = 1776\n",
      "222 x 9 = 1998\n",
      "222 x 10 = 2220\n"
     ]
    }
   ],
   "source": [
    "# Get input from the user\n",
    "num = int(input(\"Enter a number: \"))\n",
    "\n",
    "# Print the multiplication table\n",
    "print(f\"Multiplication table of {num}:\")\n",
    "for i in range(1, 11):\n",
    "    product = num * i\n",
    "    print(f\"{num} x {i} = {product}\")"
   ]
  },
  {
   "cell_type": "code",
   "execution_count": 5,
   "id": "9bb85538",
   "metadata": {},
   "outputs": [
    {
     "name": "stdout",
     "output_type": "stream",
     "text": [
      "Enter a number: 23\n",
      "The factorial of 23 is 25852016738884976640000\n"
     ]
    }
   ],
   "source": [
    "def factorial(n):\n",
    "  \"\"\"Calculates the factorial of a given number.\n",
    "\n",
    "  Args:\n",
    "    n: The number for which to calculate the factorial.\n",
    "\n",
    "  Returns:\n",
    "    The factorial of the given number.\n",
    "  \"\"\"\n",
    "\n",
    "  if n == 0 or n == 1:\n",
    "    return 1\n",
    "  else:\n",
    "    result = 1\n",
    "    for i in range(2, n+1):\n",
    "      result *= i\n",
    "    return result\n",
    "\n",
    "# Get the number from the user\n",
    "num = int(input(\"Enter a number: \"))\n",
    "\n",
    "# Calculate and print the factorial\n",
    "factorial_result = factorial(num)\n",
    "print(f\"The factorial of {num} is {factorial_result}\")"
   ]
  },
  {
   "cell_type": "code",
   "execution_count": 6,
   "id": "24308441",
   "metadata": {},
   "outputs": [
    {
     "name": "stdout",
     "output_type": "stream",
     "text": [
      "Enter a number: 12\n",
      "12 is not a prime number.\n"
     ]
    }
   ],
   "source": [
    "def is_prime(num):\n",
    "  \"\"\"Checks if a given number is prime.\n",
    "\n",
    "  Args:\n",
    "    num: The number to check.\n",
    "\n",
    "  Returns:\n",
    "    True if the number is prime, False otherwise.\n",
    "  \"\"\"\n",
    "\n",
    "  if num <= 1:\n",
    "    return False\n",
    "  elif num <= 3:\n",
    "    return True\n",
    "  elif num % 2 == 0 or num % 3 == 0:\n",
    "    return False\n",
    "\n",
    "  i = 5\n",
    "  while i * i <= num:\n",
    "    if num % i == 0 or num % (i + 2) == 0:\n",
    "      return False\n",
    "    i += 6\n",
    "\n",
    "  return True\n",
    "\n",
    "# Get the number from the user\n",
    "num = int(input(\"Enter a number: \"))\n",
    "\n",
    "# Check if the number is prime\n",
    "if is_prime(num):\n",
    "  print(f\"{num} is a prime number.\")\n",
    "else:\n",
    "  print(f\"{num} is not a prime number.\")"
   ]
  },
  {
   "cell_type": "code",
   "execution_count": 7,
   "id": "059dbfb9",
   "metadata": {},
   "outputs": [
    {
     "name": "stdout",
     "output_type": "stream",
     "text": [
      "The sum of even numbers between 1 and 100 is: 2550\n"
     ]
    }
   ],
   "source": [
    "def sum_of_even_numbers(start, end):\n",
    "  \"\"\"Calculates the sum of even numbers within a given range.\n",
    "\n",
    "  Args:\n",
    "    start: The starting number.\n",
    "    end: The ending number.\n",
    "\n",
    "  Returns:\n",
    "    The sum of even numbers within the given range.\n",
    "  \"\"\"\n",
    "\n",
    "  sum = 0\n",
    "  for num in range(start, end + 1):\n",
    "    if num % 2 == 0:\n",
    "      sum += num\n",
    "  return sum\n",
    "\n",
    "# Find the sum of even numbers between 1 and 100\n",
    "result = sum_of_even_numbers(1, 100)\n",
    "print(\"The sum of even numbers between 1 and 100 is:\", result)"
   ]
  },
  {
   "cell_type": "code",
   "execution_count": null,
   "id": "ab1c9a9d",
   "metadata": {},
   "outputs": [],
   "source": []
  },
  {
   "cell_type": "code",
   "execution_count": null,
   "id": "7eda67dc",
   "metadata": {},
   "outputs": [],
   "source": []
  }
 ],
 "metadata": {
  "kernelspec": {
   "display_name": "Python 3 (ipykernel)",
   "language": "python",
   "name": "python3"
  },
  "language_info": {
   "codemirror_mode": {
    "name": "ipython",
    "version": 3
   },
   "file_extension": ".py",
   "mimetype": "text/x-python",
   "name": "python",
   "nbconvert_exporter": "python",
   "pygments_lexer": "ipython3",
   "version": "3.9.13"
  }
 },
 "nbformat": 4,
 "nbformat_minor": 5
}
