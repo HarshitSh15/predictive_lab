{
 "cells": [
  {
   "cell_type": "code",
   "execution_count": 12,
   "id": "2170bb33",
   "metadata": {},
   "outputs": [
    {
     "name": "stdout",
     "output_type": "stream",
     "text": [
      "Enter the first number: 22\n",
      "Enter the second number: 333\n",
      "Addition: 22.0 + 333.0 = 355.0\n",
      "Subtraction: 22.0 - 333.0 = -311.0\n",
      "Multiplication: 22.0 * 333.0 = 7326.0\n",
      "Division: 22.0 / 333.0 = 0.06606606606606606\n",
      "Modulus: 22.0 % 333.0 = 22.0\n"
     ]
    }
   ],
   "source": [
    "num1 = float(input(\"Enter the first number: \"))\n",
    "num2 = float(input(\"Enter the second number: \"))\n",
    "addition = num1 + num2\n",
    "subtraction = num1 - num2\n",
    "multiplication = num1 * num2\n",
    "division = num1 / num2 if num2 != 0 else \"undefined\"\n",
    "modulus = num1 % num2 if num2 != 0 else \"undefined\"\n",
    "print(f\"Addition: {num1} + {num2} = {addition}\")\n",
    "print(f\"Subtraction: {num1} - {num2} = {subtraction}\")\n",
    "print(f\"Multiplication: {num1} * {num2} = {multiplication}\")\n",
    "print(f\"Division: {num1} / {num2} = {division}\")\n",
    "print(f\"Modulus: {num1} % {num2} = {modulus}\")\n"
   ]
  },
  {
   "cell_type": "code",
   "execution_count": 2,
   "id": "a2a564c4",
   "metadata": {},
   "outputs": [
    {
     "name": "stdout",
     "output_type": "stream",
     "text": [
      "Sum: 20.5\n",
      "Difference: 0.5\n",
      "Concatenated String: Hello, World! Have a nice day!\n",
      "Logical AND result: False\n",
      "Logical OR result: True\n"
     ]
    }
   ],
   "source": [
    "integer_var = 10\n",
    "float_var = 10.5\n",
    "string_var = \"Hello, World!\"\n",
    "boolean_var = True\n",
    "sum_result = integer_var + float_var\n",
    "difference_result = float_var - integer_var\n",
    "concatenated_string = string_var + \" Have a nice day!\"\n",
    "and_result = boolean_var and False\n",
    "or_result = boolean_var or False\n",
    "print(f\"Sum: {sum_result}\")\n",
    "print(f\"Difference: {difference_result}\")\n",
    "print(f\"Concatenated String: {concatenated_string}\")\n",
    "print(f\"Logical AND result: {and_result}\")\n",
    "print(f\"Logical OR result: {or_result}\")\n"
   ]
  },
  {
   "cell_type": "code",
   "execution_count": 4,
   "id": "484ef843",
   "metadata": {},
   "outputs": [
    {
     "name": "stdout",
     "output_type": "stream",
     "text": [
      "Enter your name: har\n",
      "Enter your birth year: 2003\n",
      "Hello, har!\n",
      "You are 21 years old.\n"
     ]
    }
   ],
   "source": [
    "name = input(\"Enter your name: \")\n",
    "birth_year = int(input(\"Enter your birth year: \"))\n",
    "from datetime import datetime\n",
    "current_year = datetime.now().year\n",
    "age = current_year - birth_year\n",
    "print(f\"Hello, {name}!\")\n",
    "print(f\"You are {age} years old.\")\n"
   ]
  },
  {
   "cell_type": "code",
   "execution_count": 7,
   "id": "03c6b82f",
   "metadata": {},
   "outputs": [
    {
     "name": "stdout",
     "output_type": "stream",
     "text": [
      "Enter a number: 692\n",
      "692 is even.\n"
     ]
    }
   ],
   "source": [
    "number = int(input(\"Enter a number: \"))\n",
    "if number % 2 == 0:\n",
    "    print(f\"{number} is even.\")\n",
    "else:\n",
    "    print(f\"{number} is odd.\")\n"
   ]
  },
  {
   "cell_type": "code",
   "execution_count": 8,
   "id": "bd7d950f",
   "metadata": {},
   "outputs": [
    {
     "name": "stdout",
     "output_type": "stream",
     "text": [
      "Using for loop:\n",
      "1 2 3 4 5 6 7 8 9 10 \n",
      "Using while loop:\n",
      "1 2 3 4 5 6 7 8 9 10 \n"
     ]
    }
   ],
   "source": [
    "print(\"Using for loop:\")\n",
    "for i in range(1, 11):\n",
    "    print(i, end=\" \")\n",
    "print()\n",
    "print(\"Using while loop:\")\n",
    "i = 1\n",
    "while i <= 10:\n",
    "    print(i, end=\" \")\n",
    "    i += 1\n",
    "print()\n"
   ]
  },
  {
   "cell_type": "code",
   "execution_count": 9,
   "id": "4b8ff842",
   "metadata": {},
   "outputs": [
    {
     "name": "stdout",
     "output_type": "stream",
     "text": [
      "First fruit: apple\n",
      "Modified list: ['apple', 'blueberry', 'cherry']\n",
      "List after adding and removing: ['apple', 'blueberry', 'orange']\n",
      "Length of the list: 3\n",
      "Sorted list: ['apple', 'blueberry', 'orange']\n",
      "Reverse sorted list: ['orange', 'blueberry', 'apple']\n"
     ]
    }
   ],
   "source": [
    "fruits = [\"apple\", \"banana\", \"cherry\"]\n",
    "print(f\"First fruit: {fruits[0]}\")\n",
    "fruits[1] = \"blueberry\"\n",
    "print(f\"Modified list: {fruits}\")\n",
    "fruits.append(\"orange\")\n",
    "fruits.remove(\"cherry\")\n",
    "print(f\"List after adding and removing: {fruits}\")\n",
    "print(f\"Length of the list: {len(fruits)}\")\n",
    "fruits.sort()\n",
    "print(f\"Sorted list: {fruits}\")\n",
    "fruits.sort(reverse=True)\n",
    "print(f\"Reverse sorted list: {fruits}\")\n"
   ]
  },
  {
   "cell_type": "code",
   "execution_count": 10,
   "id": "3c52945a",
   "metadata": {},
   "outputs": [
    {
     "name": "stdout",
     "output_type": "stream",
     "text": [
      "Length of the string: 14\n",
      "Uppercase: HELLO, PYTHON!\n",
      "Lowercase: hello, python!\n",
      "'Python' in text: True\n",
      "List of words: ['Hello,', 'Python!']\n"
     ]
    }
   ],
   "source": [
    "text = \"Hello, Python!\"\n",
    "print(f\"Length of the string: {len(text)}\")\n",
    "print(f\"Uppercase: {text.upper()}\")\n",
    "print(f\"Lowercase: {text.lower()}\")\n",
    "substring = \"Python\"\n",
    "print(f\"'{substring}' in text: {substring in text}\")\n",
    "words = text.split()\n",
    "print(f\"List of words: {words}\")\n"
   ]
  },
  {
   "cell_type": "code",
   "execution_count": 11,
   "id": "be28d09b",
   "metadata": {},
   "outputs": [
    {
     "name": "stdout",
     "output_type": "stream",
     "text": [
      "Largest number: 9\n",
      "Smallest number: 1\n"
     ]
    }
   ],
   "source": [
    "numbers = [4, 1, 7, 3, 9, 2]\n",
    "largest = max(numbers)\n",
    "smallest = min(numbers)\n",
    "print(f\"Largest number: {largest}\")\n",
    "print(f\"Smallest number: {smallest}\")\n"
   ]
  },
  {
   "cell_type": "code",
   "execution_count": null,
   "id": "d43c6863",
   "metadata": {},
   "outputs": [],
   "source": []
  }
 ],
 "metadata": {
  "kernelspec": {
   "display_name": "Python 3 (ipykernel)",
   "language": "python",
   "name": "python3"
  },
  "language_info": {
   "codemirror_mode": {
    "name": "ipython",
    "version": 3
   },
   "file_extension": ".py",
   "mimetype": "text/x-python",
   "name": "python",
   "nbconvert_exporter": "python",
   "pygments_lexer": "ipython3",
   "version": "3.9.13"
  }
 },
 "nbformat": 4,
 "nbformat_minor": 5
}
