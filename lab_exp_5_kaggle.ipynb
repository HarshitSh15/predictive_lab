{
 "cells": [
  {
   "cell_type": "code",
   "execution_count": 2,
   "id": "61080a52",
   "metadata": {},
   "outputs": [
    {
     "name": "stdout",
     "output_type": "stream",
     "text": [
      "hello\n"
     ]
    }
   ],
   "source": [
    "print(\"hello\")"
   ]
  },
  {
   "cell_type": "code",
   "execution_count": 2,
   "id": "eb796de8",
   "metadata": {},
   "outputs": [
    {
     "name": "stdout",
     "output_type": "stream",
     "text": [
      "Mean:\n",
      " age                         36.775106\n",
      "height_cm                  168.559807\n",
      "weight_kg                   67.447316\n",
      "body fat_%                  23.240165\n",
      "diastolic                   78.796842\n",
      "systolic                   130.234817\n",
      "gripForce                   36.963877\n",
      "sit and bend forward_cm     15.209268\n",
      "sit-ups counts              39.771224\n",
      "broad jump_cm              190.129627\n",
      "dtype: float64\n",
      "\n",
      "Geometric Mean:\n",
      " [ 34.4243199  168.34732191  66.39359291  22.05345026   0.\n",
      "   0.           0.                  nan   0.           0.        ]\n",
      "\n",
      "Harmonic Mean:\n",
      " age                         32.353786\n",
      "height_cm                  168.132928\n",
      "weight_kg                   65.340589\n",
      "body fat_%                  20.766092\n",
      "diastolic                         NaN\n",
      "systolic                          NaN\n",
      "gripForce                         NaN\n",
      "sit and bend forward_cm           NaN\n",
      "sit-ups counts                    NaN\n",
      "broad jump_cm                     NaN\n",
      "dtype: float64\n",
      "\n",
      "Mode:\n",
      " age                         21.0\n",
      "gender                         M\n",
      "height_cm                  170.0\n",
      "weight_kg                   70.5\n",
      "body fat_%                  23.1\n",
      "diastolic                   80.0\n",
      "systolic                   120.0\n",
      "gripForce                   43.1\n",
      "sit and bend forward_cm     20.0\n",
      "sit-ups counts              45.0\n",
      "broad jump_cm              211.0\n",
      "class                          C\n",
      "Name: 0, dtype: object\n",
      "\n",
      "Median:\n",
      " age                         32.0\n",
      "height_cm                  169.2\n",
      "weight_kg                   67.4\n",
      "body fat_%                  22.8\n",
      "diastolic                   79.0\n",
      "systolic                   130.0\n",
      "gripForce                   37.9\n",
      "sit and bend forward_cm     16.2\n",
      "sit-ups counts              41.0\n",
      "broad jump_cm              193.0\n",
      "dtype: float64\n"
     ]
    },
    {
     "name": "stderr",
     "output_type": "stream",
     "text": [
      "C:\\Users\\Dell\\anaconda3\\lib\\site-packages\\scipy\\stats\\_stats_py.py:307: RuntimeWarning: divide by zero encountered in log\n",
      "  log_a = np.log(a)\n",
      "C:\\Users\\Dell\\anaconda3\\lib\\site-packages\\scipy\\stats\\_stats_py.py:307: RuntimeWarning: invalid value encountered in log\n",
      "  log_a = np.log(a)\n"
     ]
    }
   ],
   "source": [
    "import pandas as pd\n",
    "import numpy as np\n",
    "from scipy import stats\n",
    "\n",
    "# Load the CSV file\n",
    "data = pd.read_csv('bodyPerformance.csv')\n",
    "\n",
    "# 1.1 Measure of Central Tendency\n",
    "def calculate_measures_of_central_tendency(df):\n",
    "    # Mean\n",
    "    mean_values = df.mean(numeric_only=True)\n",
    "    \n",
    "    # Geometric Mean\n",
    "    geometric_mean_values = stats.gmean(df.select_dtypes(include=[np.number]), axis=0)\n",
    "    \n",
    "    # Harmonic Mean (only for positive values)\n",
    "    harmonic_mean_values = df.select_dtypes(include=[np.number]).apply(\n",
    "        lambda x: stats.hmean(x) if all(x > 0) else np.nan\n",
    "    )\n",
    "    \n",
    "    # Mode\n",
    "    mode_values = df.mode().iloc[0]\n",
    "    \n",
    "    # Median\n",
    "    median_values = df.median(numeric_only=True)\n",
    "    \n",
    "    # Display the results\n",
    "    print(\"Mean:\\n\", mean_values)\n",
    "    print(\"\\nGeometric Mean:\\n\", geometric_mean_values)\n",
    "    print(\"\\nHarmonic Mean:\\n\", harmonic_mean_values)\n",
    "    print(\"\\nMode:\\n\", mode_values)\n",
    "    print(\"\\nMedian:\\n\", median_values)\n",
    "\n",
    "# Call the function\n",
    "calculate_measures_of_central_tendency(data)\n"
   ]
  },
  {
   "cell_type": "code",
   "execution_count": 5,
   "id": "065cb6f5",
   "metadata": {},
   "outputs": [
    {
     "ename": "TypeError",
     "evalue": "mad() got an unexpected keyword argument 'numeric_only'",
     "output_type": "error",
     "traceback": [
      "\u001b[1;31m---------------------------------------------------------------------------\u001b[0m",
      "\u001b[1;31mTypeError\u001b[0m                                 Traceback (most recent call last)",
      "\u001b[1;32m~\\AppData\\Local\\Temp\\ipykernel_10604\\1016803131.py\u001b[0m in \u001b[0;36m<module>\u001b[1;34m\u001b[0m\n\u001b[0;32m     43\u001b[0m \u001b[1;33m\u001b[0m\u001b[0m\n\u001b[0;32m     44\u001b[0m \u001b[1;31m# Call the function\u001b[0m\u001b[1;33m\u001b[0m\u001b[1;33m\u001b[0m\u001b[0m\n\u001b[1;32m---> 45\u001b[1;33m \u001b[0mcalculate_measures_of_dispersion\u001b[0m\u001b[1;33m(\u001b[0m\u001b[0mdata\u001b[0m\u001b[1;33m)\u001b[0m\u001b[1;33m\u001b[0m\u001b[1;33m\u001b[0m\u001b[0m\n\u001b[0m",
      "\u001b[1;32m~\\AppData\\Local\\Temp\\ipykernel_10604\\1016803131.py\u001b[0m in \u001b[0;36mcalculate_measures_of_dispersion\u001b[1;34m(df)\u001b[0m\n\u001b[0;32m     24\u001b[0m \u001b[1;33m\u001b[0m\u001b[0m\n\u001b[0;32m     25\u001b[0m     \u001b[1;31m# Mean Absolute Deviation (MAD)\u001b[0m\u001b[1;33m\u001b[0m\u001b[1;33m\u001b[0m\u001b[0m\n\u001b[1;32m---> 26\u001b[1;33m     \u001b[0mmad_values\u001b[0m \u001b[1;33m=\u001b[0m \u001b[0mdf\u001b[0m\u001b[1;33m.\u001b[0m\u001b[0mmad\u001b[0m\u001b[1;33m(\u001b[0m\u001b[0mnumeric_only\u001b[0m\u001b[1;33m=\u001b[0m\u001b[1;32mTrue\u001b[0m\u001b[1;33m)\u001b[0m\u001b[1;33m\u001b[0m\u001b[1;33m\u001b[0m\u001b[0m\n\u001b[0m\u001b[0;32m     27\u001b[0m \u001b[1;33m\u001b[0m\u001b[0m\n\u001b[0;32m     28\u001b[0m     \u001b[1;31m# Skewness (Shape of Data)\u001b[0m\u001b[1;33m\u001b[0m\u001b[1;33m\u001b[0m\u001b[0m\n",
      "\u001b[1;31mTypeError\u001b[0m: mad() got an unexpected keyword argument 'numeric_only'"
     ]
    }
   ],
   "source": [
    "import pandas as pd\n",
    "import numpy as np\n",
    "\n",
    "# Load the CSV file\n",
    "data = pd.read_csv('bodyPerformance.csv')\n",
    "\n",
    "# 1.2 Measure of Dispersion\n",
    "def calculate_measures_of_dispersion(df):\n",
    "    # Variance\n",
    "    variance_values = df.var(numeric_only=True)\n",
    "    \n",
    "    # Standard Deviation\n",
    "    std_dev_values = df.std(numeric_only=True)\n",
    "    \n",
    "    # Range (Max - Min)\n",
    "    range_values = df.max(numeric_only=True) - df.min(numeric_only=True)\n",
    "    \n",
    "    # Interquartile Range (IQR)\n",
    "    iqr_values = df.quantile(0.75) - df.quantile(0.25)\n",
    "    \n",
    "    # Percentiles (25th and 75th for IQR)\n",
    "    percentiles_25 = df.quantile(0.25)\n",
    "    percentiles_75 = df.quantile(0.75)\n",
    "    \n",
    "    # Mean Absolute Deviation (MAD)\n",
    "    mad_values = df.mad(numeric_only=True)\n",
    "    \n",
    "    # Skewness (Shape of Data)\n",
    "    skewness_values = df.skew(numeric_only=True)\n",
    "    \n",
    "    # Symmetry check (if skewness is close to 0, it's symmetric)\n",
    "    symmetry_status = ['Symmetric' if abs(skew) < 0.5 else 'Skewed' for skew in skewness_values]\n",
    "    \n",
    "    # Display the results\n",
    "    print(\"Variance:\\n\", variance_values)\n",
    "    print(\"\\nStandard Deviation:\\n\", std_dev_values)\n",
    "    print(\"\\nRange:\\n\", range_values)\n",
    "    print(\"\\nInterquartile Range (IQR):\\n\", iqr_values)\n",
    "    print(\"\\nPercentiles (25th and 75th):\\n\", percentiles_25, percentiles_75)\n",
    "    print(\"\\nMean Absolute Deviation (MAD):\\n\", mad_values)\n",
    "    print(\"\\nSkewness:\\n\", skewness_values)\n",
    "    print(\"\\nSymmetry (Based on Skewness):\\n\", symmetry_status)\n",
    "\n",
    "# Call the function\n",
    "calculate_measures_of_dispersion(data)\n"
   ]
  },
  {
   "cell_type": "code",
   "execution_count": null,
   "id": "5697cc05",
   "metadata": {},
   "outputs": [],
   "source": []
  }
 ],
 "metadata": {
  "kernelspec": {
   "display_name": "Python 3 (ipykernel)",
   "language": "python",
   "name": "python3"
  },
  "language_info": {
   "codemirror_mode": {
    "name": "ipython",
    "version": 3
   },
   "file_extension": ".py",
   "mimetype": "text/x-python",
   "name": "python",
   "nbconvert_exporter": "python",
   "pygments_lexer": "ipython3",
   "version": "3.9.13"
  }
 },
 "nbformat": 4,
 "nbformat_minor": 5
}
